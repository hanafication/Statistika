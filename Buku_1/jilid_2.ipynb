{
 "cells": [
  {
   "attachments": {
    "image.png": {
     "image/png": "[encoded data removed]"
    }
   },
   "cell_type": "markdown",
   "metadata": {},
   "source": [
    "## Analisis Variansi\n",
    "### Distribusi F\n",
    "#### Membandingkan dua variansi populasi\n",
    "Distribusi F digunakan untuk menguji apakah kedua variansi populasinya sama. Ciri-ciri distribusi F:\n",
    "1. Distribusinya kontinu dan berbentuk asimetris positif.\n",
    "2. Nilainya tidak bisa negatif.\n",
    "3. Terdapat serumpun distribusi F. Setiap kali derajat kebebasannya, baik pembilang dan penyebut berubah, distribusi baru akan terbentuk.\n",
    "\n",
    "Asumsi pada distribusi F terhadap populasinya yakni populasi yang diambil sampelnya harus mengikuti distribusi normal. Terdapat pemilihan derajat kebebasan (dof) dalam distribusi F. Dalam menentukan nilai F tabel, kita perlu menggunakan derajat kebebasan untuk pembilang (yang di atas) dan penyebut (yang di bawah), biasanya variansi yang besar diletakkan di pembilang sehingga rasionya paling sedikit adalah 1.00. Formula untuk menghitung nilai F:\n",
    "\n",
    "![image.png](attachment:image.png)<br>\n",
    "di mana variansi pembilang merupakan variansi yang bernilai lebih besar daripada penyebutnya.\n",
    "\n",
    "#### Case\n",
    "Terdapat dua data sampel tentang rute tempuh. Pengamatan dilakukan untuk mencari perbedaan variansi waktu berkendara pada kedua rute tersebut dengan tingkat kepercayaan sebesar 0.1\n",
    "\n",
    "    Hipotesis nol: var1 = var2<br>\n",
    "    Hipotesis alternatif: var1 != var2<br>\n",
    "    Tingkat kepercayaan: 0.1\n",
    "    Tipe uji: Dua sisi\n",
    "    Statistik uji: distribusi F\n",
    "\n",
    "Pengerjaan:\n"
   ]
  },
  {
   "cell_type": "code",
   "execution_count": 15,
   "metadata": {
    "hide_input": true,
    "scrolled": true
   },
   "outputs": [
    {
     "name": "stdout",
     "output_type": "stream",
     "text": [
      "Nilai f hitung > nilai kritis , maka menolak Hipotesis Nol\n",
      "Nilai f hitung sebesar 4.226368159203981\n",
      "Nilai kritis sebesar 3.865968853123844\n",
      "Nilai p sebesar 0.08079321312946908\n"
     ]
    }
   ],
   "source": [
    "#Import libraries\n",
    "import pandas as pd\n",
    "import numpy as np\n",
    "from scipy import stats\n",
    "\n",
    "\n",
    "#preprocess\n",
    "data1 = [52, 67, 56, 45, 70, 54, 64]\n",
    "data2 = [59, 60, 61, 51, 56, 63, 57, 65]\n",
    "alpha = 1 - 0.1 / 2\n",
    "\n",
    "#kalkulasi\n",
    "var1 = np.var(data1, ddof = 1)\n",
    "var2 = np.var(data2, ddof = 1)\n",
    "\n",
    "if var1 > var2:\n",
    "    f_hitung = var1 / var2\n",
    "else:\n",
    "    f_hitung = var2 / var1\n",
    "\n",
    "nilai_kritis = stats.f.ppf(alpha, dfn = len(data1) - 1, dfd = len(data2) - 1)\n",
    "p_value = 2 * (1 - stats.f.cdf(f_hitung, dfn = len(data1) - 1, dfd = len(data2) - 1))\n",
    "\n",
    "#Kesimpulan\n",
    "if f_hitung < nilai_kritis:\n",
    "    print('Nilai f hitung  < nilai kritis, maka gagal tolak Hipotesis Nol')\n",
    "else:\n",
    "    print('Nilai f hitung > nilai kritis , maka menolak Hipotesis Nol')\n",
    "\n",
    "print('Nilai f hitung sebesar', f_hitung)\n",
    "print('Nilai kritis sebesar', nilai_kritis)\n",
    "print('Nilai p sebesar', p_value)"
   ]
  },
  {
   "cell_type": "markdown",
   "metadata": {},
   "source": [
    "### ANOVA\n"
   ]
  },
  {
   "cell_type": "code",
   "execution_count": null,
   "metadata": {},
   "outputs": [],
   "source": []
  },
  {
   "cell_type": "code",
   "execution_count": null,
   "metadata": {},
   "outputs": [],
   "source": []
  },
  {
   "cell_type": "code",
   "execution_count": 21,
   "metadata": {},
   "outputs": [
    {
     "data": {
      "text/plain": [
       "1.9994770211238766"
      ]
     },
     "execution_count": 21,
     "metadata": {},
     "output_type": "execute_result"
    }
   ],
   "source": []
  },
  {
   "cell_type": "code",
   "execution_count": null,
   "metadata": {},
   "outputs": [],
   "source": []
  },
  {
   "cell_type": "code",
   "execution_count": null,
   "metadata": {},
   "outputs": [],
   "source": []
  },
  {
   "cell_type": "code",
   "execution_count": null,
   "metadata": {},
   "outputs": [],
   "source": []
  },
  {
   "cell_type": "code",
   "execution_count": null,
   "metadata": {},
   "outputs": [],
   "source": []
  },
  {
   "cell_type": "code",
   "execution_count": null,
   "metadata": {},
   "outputs": [],
   "source": []
  },
  {
   "cell_type": "code",
   "execution_count": null,
   "metadata": {},
   "outputs": [],
   "source": []
  }
 ],
 "metadata": {
  "kernelspec": {
   "display_name": "Python 3",
   "language": "python",
   "name": "python3"
  },
  "language_info": {
   "codemirror_mode": {
    "name": "ipython",
    "version": 3
   },
   "file_extension": ".py",
   "mimetype": "text/x-python",
   "name": "python",
   "nbconvert_exporter": "python",
   "pygments_lexer": "ipython3",
   "version": "3.8.5"
  }
 },
 "nbformat": 4,
 "nbformat_minor": 4
}
