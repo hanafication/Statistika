{
 "cells": [
  {
   "attachments": {
    "image.png": {
     "image/png": "[encoded data removed]"
    }
   },
   "cell_type": "markdown",
   "metadata": {},
   "source": [
    "## Analisis Variansi\n",
    "### Distribusi F\n",
    "#### Membandingkan dua variansi populasi\n",
    "Distribusi F digunakan untuk menguji apakah kedua variansi populasinya sama. Ciri-ciri distribusi F:\n",
    "1. Distribusinya kontinu dan berbentuk asimetris positif.\n",
    "2. Nilainya tidak bisa negatif.\n",
    "3. Terdapat serumpun distribusi F. Setiap kali derajat kebebasannya, baik pembilang dan penyebut berubah, distribusi baru akan terbentuk.\n",
    "\n",
    "Asumsi pada distribusi F terhadap populasinya yakni populasi yang diambil sampelnya harus mengikuti distribusi normal. Terdapat pemilihan derajat kebebasan (dof) dalam distribusi F. Dalam menentukan nilai F tabel, kita perlu menggunakan derajat kebebasan untuk pembilang (yang di atas) dan penyebut (yang di bawah), biasanya variansi yang besar diletakkan di pembilang sehingga rasionya paling sedikit adalah 1.00. Formula untuk menghitung nilai F:\n",
    "\n",
    "![image.png](attachment:image.png)<br>\n",
    "di mana variansi pembilang merupakan variansi yang bernilai lebih besar daripada penyebutnya.\n",
    "\n",
    "#### Case\n",
    "Terdapat dua data sampel tentang rute tempuh. Pengamatan dilakukan untuk mencari perbedaan variansi waktu berkendara pada kedua rute tersebut dengan tingkat kepercayaan sebesar 0.1\n",
    "\n",
    "    Hipotesis nol: var1 = var2<br>\n",
    "    Hipotesis alternatif: var1 != var2<br>\n",
    "    Tingkat kepercayaan: 0.1\n",
    "    Tipe uji: Dua sisi\n",
    "    Statistik uji: distribusi F\n",
    "\n",
    "Pengerjaan:\n"
   ]
  },
  {
   "cell_type": "code",
   "execution_count": 152,
   "metadata": {
    "hide_input": false,
    "scrolled": true
   },
   "outputs": [
    {
     "name": "stdout",
     "output_type": "stream",
     "text": [
      "Nilai f hitung > nilai kritis , maka menolak Hipotesis Nol\n",
      "Nilai f hitung sebesar 4.226368159203981\n",
      "Nilai kritis sebesar 3.865968853123844\n",
      "Nilai p sebesar 0.08079321312946908\n"
     ]
    }
   ],
   "source": [
    "#Import libraries\n",
    "import pandas as pd\n",
    "import numpy as np\n",
    "from scipy import stats\n",
    "\n",
    "\n",
    "#preprocess\n",
    "data1 = [52, 67, 56, 45, 70, 54, 64]\n",
    "data2 = [59, 60, 61, 51, 56, 63, 57, 65]\n",
    "alpha = 1 - 0.1 / 2\n",
    "\n",
    "#kalkulasi\n",
    "var1 = np.var(data1, ddof = 1)\n",
    "var2 = np.var(data2, ddof = 1)\n",
    "\n",
    "if var1 > var2:\n",
    "    f_hitung = var1 / var2\n",
    "else:\n",
    "    f_hitung = var2 / var1\n",
    "\n",
    "nilai_kritis = stats.f.ppf(alpha, dfn = len(data1) - 1, dfd = len(data2) - 1)\n",
    "p_value = 2 * (1 - stats.f.cdf(f_hitung, dfn = len(data1) - 1, dfd = len(data2) - 1))\n",
    "\n",
    "#Kesimpulan\n",
    "if f_hitung < nilai_kritis:\n",
    "    print('Nilai f hitung  < nilai kritis, maka gagal tolak Hipotesis Nol')\n",
    "else:\n",
    "    print('Nilai f hitung > nilai kritis , maka menolak Hipotesis Nol')\n",
    "\n",
    "print('Nilai f hitung sebesar', f_hitung)\n",
    "print('Nilai kritis sebesar', nilai_kritis)\n",
    "print('Nilai p sebesar', p_value)"
   ]
  },
  {
   "attachments": {
    "image.png": {
     "image/png": "[encoded data removed]"
    }
   },
   "cell_type": "markdown",
   "metadata": {
    "hide_input": true
   },
   "source": [
    "### ANOVA Satu Arah\n",
    "Dalam ANOVA, perlakuan yang diberikan/terjadi merupakan sumber dari variasi\n",
    "#### Asumsi\n",
    "Asumsi yang mendasari ANOVA:\n",
    "1. Sampel-sampel berasal dari populasi yang mengikuti distribusi normal.\n",
    "2. Populasinya memiliki standar deviasi yang sama.\n",
    "3. Sampel-sampelnya saling bebas\n",
    "\n",
    "#### Rangkuman Formula\n",
    "Formula yang digunakan antara lain sebagai berikut:\n",
    "![image.png](attachment:image.png)\n",
    "Di mana:\n",
    "\n",
    "    SS total : Sum Squared/penjumlahan total kuadrat\n",
    "    XbarG : Rata-rata grup keseluruhan\n",
    "    SSE : Sum squared error/penjumlahan dari kesalahan kuadrat\n",
    "    XbarC : Rata-rata tiap kolom/sampel perlakuan\n",
    "\n",
    "#### Tabel penghitungan nilai F:\n",
    "\n",
    "| Sumber Variasi | Jumlah Rata-Rata | Derajat Kebebasan | Kuadrat Rata-Rata (MS) | F |\n",
    "| --- | --- | --- | --- | --- |\n",
    "| Perlakuan (T) | SST | k - 1 di mana k = jumlah kolom/sampel perlakuan | SST/(k - 1) = MST | MST/MSE = F |\n",
    "| Kesalahan (E) | SSE | n - k | SSE/(n - k) = MSE |  \n",
    "| Total | SS total | n - 1 |  \n",
    "\n",
    "#### Case\n",
    "Penilaian kepuasan penerbangan dengan mengambil sampel penumpang dari keempat maskapai. Yang dicari adalah apakah ada perbedaan rata-rata tingkat kepuasan antara keempatnya.\n",
    "\n",
    "    Hipotesis Nol: rata-rata skor dari keempatnya sama sehingga tidak ada perbedaan.\n",
    "    Hipotesis Alternatif: rata-rata skor sedikitnya dua yang tidak sama sehingga terdapat perbedaan.\n",
    "    Taraf signifikansi: 99%\n",
    "    Tipe Uji: One-way, dan hanya ada satu sisi pada ANOVA\n",
    "    Statistik uji: ANOVA one way\n",
    "\n",
    "#### Pengerjaan"
   ]
  },
  {
   "cell_type": "code",
   "execution_count": 153,
   "metadata": {
    "hide_input": false,
    "scrolled": true
   },
   "outputs": [
    {
     "name": "stdout",
     "output_type": "stream",
     "text": [
      "Nilai f hitung > nilai kritis , maka menolak Hipotesis Nol\n",
      "Nilai f hitung sebesar 8.990643301685516\n",
      "Nilai kritis sebesar 5.0918895204140115\n",
      "Nilai p sebesar 0.0007427688984841252\n"
     ]
    }
   ],
   "source": [
    "#informasi\n",
    "data1 = [94, 90, 85, 80]\n",
    "data2 = [75, 68, 77, 83, 88]\n",
    "data3 = [70, 73, 76, 78, 80, 68, 65]\n",
    "data4 = [68, 70, 72, 65, 74, 65]\n",
    "alpha = 1 - 0.01\n",
    "\n",
    "#preprocess\n",
    "n1 = len(data1)\n",
    "n2 = len(data2)\n",
    "n3 = len(data3)\n",
    "n4 = len(data4)\n",
    "n = n1 + n2 + n3 + n4\n",
    "k = 4\n",
    "\n",
    "#Kalkulasi SS total\n",
    "merged = []\n",
    "for i in [data1, data2, data3, data4]:\n",
    "    merged.extend(i)\n",
    "    \n",
    "XbarG = np.mean(merged)\n",
    "SStotal = np.sum((merged - XbarG) ** 2)\n",
    "\n",
    "#Kalkulasi Squared Error tiap orang\n",
    "#SE data1-data4\n",
    "SE_data1= np.sum((data1 - np.mean(data1)) ** 2)\n",
    "SE_data2= np.sum((data2 - np.mean(data2)) ** 2)\n",
    "SE_data3= np.sum((data3 - np.mean(data3)) ** 2)\n",
    "SE_data4= np.sum((data4 - np.mean(data4)) ** 2)\n",
    "\n",
    "#Kalkulasi SSE\n",
    "SSE = np.sum([SE_data1, SE_data2, SE_data3, SE_data4])\n",
    "\n",
    "#Kalkulasi Sum Squared Tratment(SST)\n",
    "SST = SStotal - SSE\n",
    "\n",
    "#Kalkulasi Mean Squared Error dan Treatment\n",
    "dof_T = k - 1\n",
    "dof_E = n - k\n",
    "\n",
    "MST = SST / dof_T\n",
    "MSE = SSE / dof_E\n",
    "\n",
    "#Kalkulasi nilai F, Nilai Kritis dan p_value\n",
    "f_hitung = MST / MSE \n",
    "nilai_kritis = stats.f.ppf(alpha, dfn = dof_T, dfd = dof_E)\n",
    "p_value = 1 - stats.f.cdf(f_hitung, dfn = dof_T, dfd = dof_E)\n",
    "\n",
    "#Kesimpulan\n",
    "if f_hitung < nilai_kritis:\n",
    "    print('Nilai f hitung  < nilai kritis, maka gagal tolak Hipotesis Nol')\n",
    "else:\n",
    "    print('Nilai f hitung > nilai kritis , maka menolak Hipotesis Nol')\n",
    "\n",
    "print('Nilai f hitung sebesar', f_hitung)\n",
    "print('Nilai kritis sebesar', nilai_kritis)\n",
    "print('Nilai p sebesar', p_value)"
   ]
  },
  {
   "attachments": {
    "image.png": {
     "image/png": "[encoded data removed]"
    }
   },
   "cell_type": "markdown",
   "metadata": {},
   "source": [
    "#### Menghitung Perbedaan Variabel-Variabelnya\n",
    "Jika hipotesis nol dari rata-rata perlakuan yang sama ditolak, kita dapat mengetahui pasangan-pasangan rata-rata yang berbeda melalui interval kepercayaan berikut:\n",
    "\n",
    "![image.png](attachment:image.png)\n",
    "\n",
    "Apabila dalam interval kepercayaan mencangkup nilai 0, maka tidak ada perbedaan antara rata-rata perlakuan. Sebaliknya apabila tidak terdapat nilai 0 di dalam interval kepercayaan, maka terdapat perbedaan.\n",
    "\n",
    "#### Melanjutkan Pengerjaan\n",
    "Pada case sebelumnya, kesimpulan yang didapatkan adalah menolak hipotesis nol sehingga terdapat perbedaan antar perlakuannya. Penghitungan perbedaan antar treatment dengan interval kepercayaan sebesar 95% adalah sebagai berikut:"
   ]
  },
  {
   "cell_type": "code",
   "execution_count": 154,
   "metadata": {
    "hide_input": true,
    "scrolled": true
   },
   "outputs": [
    {
     "name": "stdout",
     "output_type": "stream",
     "text": [
      "Data 1\n",
      "Rata-Rata Data 1sebesar 87.25\n",
      "Upper Confidence Interval Data 1 sebesar 93.28650686336209\n",
      "Lower Confidence Interval Data 1 sebesar 81.21349313663791 \n",
      "\n",
      "Data 2\n",
      "Rata-Rata Data 2sebesar 78.2\n",
      "Upper Confidence Interval Data 2 sebesar 83.59921587724867\n",
      "Lower Confidence Interval Data 2 sebesar 72.80078412275134 \n",
      "\n",
      "Data 3\n",
      "Rata-Rata Data 3sebesar 72.85714285714286\n",
      "Upper Confidence Interval Data 3 sebesar 77.42031312799733\n",
      "Lower Confidence Interval Data 3 sebesar 68.29397258628839 \n",
      "\n",
      "Data 4\n",
      "Rata-Rata Data 4sebesar 69.0\n",
      "Upper Confidence Interval Data 4 sebesar 73.9287872146819\n",
      "Lower Confidence Interval Data 4 sebesar 64.0712127853181 \n",
      "\n"
     ]
    },
    {
     "data": {
      "image/png": "[encoded data removed]",
      "text/plain": [
       "<Figure size 864x720 with 1 Axes>"
      ]
     },
     "metadata": {
      "needs_background": "light"
     },
     "output_type": "display_data"
    }
   ],
   "source": [
    "#Kalkulasi Individual Confidence Interval sehingga dapat dibandingkan semuanya\n",
    "#import for plot\n",
    "import matplotlib.pyplot as plt\n",
    "import seaborn as sns\n",
    "\n",
    "ci = 0.05\n",
    "data_list = [data1, data2, data3, data4]\n",
    "plt.figure(figsize = (12, 10))\n",
    "plt.tight_layout(pad = 6)\n",
    "\n",
    "for i, val in enumerate(data_list, 1):\n",
    "    data_upper = np.mean(val) + stats.t.ppf(1 - ci/2, dof_E) * np.sqrt(MSE / len(val))\n",
    "    data_lower = np.mean(val) - stats.t.ppf(1 - ci/2, dof_E) * np.sqrt(MSE / len(val))\n",
    "    \n",
    "    #plot\n",
    "    sns.lineplot(y = np.mean(val), \n",
    "                 x = np.linspace(1, len(val), len(val)), linewidth = 2, \n",
    "                 label = 'Data' + str(i))\n",
    "    plt.fill_between(x = np.linspace(1, len(val), len(val)),\n",
    "                     y1 = data_upper, y2 = data_lower, \n",
    "                     alpha = 0.4, linewidth = 1, label = 'CI')\n",
    "    plt.legend(fontsize = 12)\n",
    "    plt.xlabel('Indeks Data', fontsize = 12)\n",
    "    plt.ylabel('Rata-Rata', fontsize = 12)\n",
    "    plt.title('Perbedaan Treatment dengan CI Sebesar 95%',\n",
    "              fontsize = 18)\n",
    "        \n",
    "    print('Data ' + str(i))\n",
    "    print('Rata-Rata Data ' + str(i) + 'sebesar', np.mean(val))\n",
    "    print('Upper Confidence Interval Data ' + str(i) + ' sebesar', data_upper)\n",
    "    print('Lower Confidence Interval Data ' + str(i) + ' sebesar', data_lower, '\\n')\n",
    "    \n",
    "plt.show()"
   ]
  },
  {
   "attachments": {
    "image-3.png": {
     "image/png": "[encoded data removed]"
    }
   },
   "cell_type": "markdown",
   "metadata": {},
   "source": [
    "### ANALISIS VARIANSI (ANOVA) DUA ARAH \n",
    "Pada ANOVA dua arah, kita mempertimbangkan variabel perlakuan yang kedua, yang disebut variabel penghalang dengan formula sebagai berikut:\n",
    "![image-3.png](attachment:image-3.png)\n",
    "\n",
    "Di mana XbarB adalah rata-rata sampel dari penghalang b. Berikut ini adalah tabel penghitungan ANOVA dua arah:\n",
    "\n",
    "| Sumber Variasi | Jumlah Rata-Rata | Derajat Kebebasan | Kuadrat Rata-Rata (MS) | F |\n",
    "| --- | --- | --- | --- | --- |\n",
    "| Perlakuan (T) | SST | k - 1 di mana k = jumlah kolom/sampel perlakuan | SST/(k - 1) = MST | MST/MSE = F |\n",
    "| Penghalangan (B) | SSB | b - 1 di mana b adalah jumlah penghalang | SSB/(b - 1) = MSB | MSB / MSE = F |\n",
    "| Kesalahan (E) | SSE | (k - 1)(b - 1) | SSE/(k - 1)(b - 1) = MSE |  \n",
    "| Total | SS total | n - 1 | \n",
    "\n",
    "#### Case\n",
    "Pengujian waktu tempuh dengan mengambil sampel berdasarkan empat rute. Pengujiannya diatur oleh lima pengemudi yang berbeda melewati keempat rute tersebut. \n",
    "    \n",
    "    Tanpa menganggap pengemudi (block)\n",
    "    Hipotesis Nol : Rata-rata waktu tempuh keempat rute sama\n",
    "    Hipotesis Alternatif : Terdapat perbedaan waktu tempuh di keempat rute\n",
    "    Taraf signifikansi : 95%\n",
    "    Statistik uji : ANOVA One Way\n",
    "\n",
    "#### Pengerjaan\n",
    "    \n"
   ]
  },
  {
   "cell_type": "code",
   "execution_count": 155,
   "metadata": {
    "hide_input": false,
    "scrolled": false
   },
   "outputs": [
    {
     "name": "stdout",
     "output_type": "stream",
     "text": [
      "Nilai f hitung  < nilai kritis, maka gagal tolak Hipotesis Nol\n",
      "Nilai f hitung sebesar 2.482523444160274\n",
      "Nilai kritis sebesar 3.238871517453585\n",
      "Nilai p sebesar 0.09810502183757919\n"
     ]
    }
   ],
   "source": [
    "#Informasi\n",
    "US6 = [18, 16, 21, 23, 25]\n",
    "West_End = [17, 23, 21, 22, 24]\n",
    "Hickory = [21, 23, 26, 29, 28]\n",
    "Rte = [22, 22, 22, 25, 28]\n",
    "alpha = 0.05\n",
    "\n",
    "#preprocess\n",
    "n1 = len(US6)\n",
    "n2 = len(West_End)\n",
    "n3 = len(Hickory)\n",
    "n4 = len(Rte)\n",
    "k = 4\n",
    "\n",
    "#kalkulasi SS total\n",
    "merged = list()\n",
    "\n",
    "for i in [US6, West_End, Hickory, Rte]:\n",
    "    merged.extend(i)\n",
    "\n",
    "SStotal = np.sum((merged - np.mean(merged)) ** 2)\n",
    "\n",
    "#kalkulasi SSE\n",
    "SSE = 0\n",
    "\n",
    "for i in [US6, West_End, Hickory, Rte]:\n",
    "    SSE += np.sum((i - np.mean(i)) ** 2)\n",
    "\n",
    "#kalkulasi SST\n",
    "SST = SStotal - SSE\n",
    "\n",
    "#kalkulasi MSE, MST, F_hitung, p_value\n",
    "doft = (k - 1)\n",
    "dofe = len(merged) - k\n",
    "\n",
    "MST = SST / doft\n",
    "MSE = SSE / dofe\n",
    "F_hitung = MST / MSE\n",
    "nilai_kritis = stats.f.ppf(1 - 0.05, doft, dofe)\n",
    "p_value = 1 - stats.f.cdf(F_hitung, doft, dofe)\n",
    "\n",
    "#Kesimpulan\n",
    "if F_hitung < nilai_kritis:\n",
    "    print('Nilai f hitung  < nilai kritis, maka gagal tolak Hipotesis Nol')\n",
    "else:\n",
    "    print('Nilai f hitung > nilai kritis , maka menolak Hipotesis Nol')\n",
    "\n",
    "print('Nilai f hitung sebesar', F_hitung)\n",
    "print('Nilai kritis sebesar', nilai_kritis)\n",
    "print('Nilai p sebesar', p_value)\n"
   ]
  },
  {
   "cell_type": "markdown",
   "metadata": {},
   "source": [
    "#### Variabel Penghalang\n",
    "Pengerjaan selanjutnya adalah dua arah dengan melanjutkan case sebelumnya"
   ]
  },
  {
   "cell_type": "code",
   "execution_count": 156,
   "metadata": {
    "hide_input": false,
    "scrolled": false
   },
   "outputs": [
    {
     "name": "stdout",
     "output_type": "stream",
     "text": [
      "Nilai f hitung MST > nilai kritis MST, maka menolak Hipotesis Nol pada perlakuan 1 (Treatment)\n",
      "Nilai f hitung sebesar 7.9346049046321525\n",
      "Nilai kritis sebesar 3.490294819497605\n",
      "Nilai p sebesar 0.0035079131535467045 \n",
      "\n",
      "\n",
      "Nilai f hitung > nilai kritis , maka menolak Hipotesis Nol pada Faktor 2 (Block)\n",
      "Nilai f hitung sebesar 9.784741144414163\n",
      "Nilai kritis sebesar 3.259166726901249\n",
      "Nilai p sebesar 0.0009335737191148441\n"
     ]
    }
   ],
   "source": [
    "#informasi - \n",
    "driver = list()\n",
    "\n",
    "for i in range(0, 5):\n",
    "    driver.append([])\n",
    "    for j in [US6, West_End, Hickory, Rte]:\n",
    "        driver[i].append(j[i])\n",
    "\n",
    "#kalkulasi SSB\n",
    "SSB = 0\n",
    "\n",
    "for i in range(0, 5):\n",
    "    SSB += k * (np.mean(driver[i]) - np.mean(merged)) ** 2\n",
    "\n",
    "#kalkulasi SSE dua arah - bisa pakai SSE oneway - SSB atau SStotal - SST - SSB\n",
    "SSE_two_way = SSE - SSB\n",
    "\n",
    "#MSE two way\n",
    "MSE_two_way = SSE_two_way / ((k - 1) * (len(driver) - 1))\n",
    "\n",
    "#kalkulasi MSB, F_hitung, p_value, nilai kritis\n",
    "MSB = SSB / (len(driver) - 1)\n",
    "F_hitung_MSB = MSB / MSE_two_way\n",
    "nilai_kritis_MSB = stats.f.ppf(1 - alpha, len(driver) - 1, (k-1) * (len(driver) - 1))\n",
    "p_value_MSB = 1 - stats.f.cdf(F_hitung_MSB, len(driver) - 1, (k-1) * (len(driver) - 1))\n",
    "\n",
    "F_hitung_MST = MST / MSE_two_way\n",
    "nilai_kritis_MST = stats.f.ppf(1 - alpha, k - 1, (k-1) * (len(driver) - 1))\n",
    "p_value_MST = 1 - stats.f.cdf(F_hitung_MST, k - 1, (k-1) * (len(driver) - 1))\n",
    "\n",
    "#Kesimpulan\n",
    "if F_hitung_MST < nilai_kritis_MST:\n",
    "    print('Nilai f hitung MST  < nilai kritis MST, maka gagal tolak Hipotesis Nol pada Faktor 1 (Treatment)')\n",
    "else:\n",
    "    print('Nilai f hitung MST > nilai kritis MST, maka menolak Hipotesis Nol pada perlakuan 1 (Treatment)')\n",
    "\n",
    "print('Nilai f hitung sebesar', F_hitung_MST)\n",
    "print('Nilai kritis sebesar', nilai_kritis_MST)\n",
    "print('Nilai p sebesar', p_value_MST, '\\n\\n')\n",
    "\n",
    "#Kesimpulan\n",
    "if F_hitung_MSB < nilai_kritis_MSB:\n",
    "    print('Nilai f hitung MSB  < nilai kritis, maka gagal tolak Hipotesis Nol pada Faktor 2 (Block)')\n",
    "else:\n",
    "    print('Nilai f hitung > nilai kritis , maka menolak Hipotesis Nol pada Faktor 2 (Block)')\n",
    "\n",
    "print('Nilai f hitung sebesar', F_hitung_MSB)\n",
    "print('Nilai kritis sebesar', nilai_kritis_MSB)\n",
    "print('Nilai p sebesar', p_value_MSB)"
   ]
  },
  {
   "attachments": {
    "image.png": {
     "image/png": "[encoded data removed]"
    }
   },
   "cell_type": "markdown",
   "metadata": {},
   "source": [
    "### ANOVA Dua Arah dengan Interaksi\n",
    "Pada ANOVA dua arah dengan interaksi, kita mempertimbangkan kedua variabel perlakuan dan interaksi yang mungkin antara variabelnya. Interaksi di sini adalah pengaruh dari suatu faktor terhadap variabel respons yang berbeda bergantung pada nilai dari faktor lain. Hipotesis nol yang biasa digunakan adalah tidak terdapat interaksi. Sedangkan hipotesis alternatifnya terdapat interaksi.\n",
    "\n",
    "Formula interaksinya adalah sebagai berikut:\n",
    "![image.png](attachment:image.png)\n",
    "\n",
    "Di mana:<br>\n",
    "Xbar_ij adalah rata-rata waktu perjalanan pada rute i sebagai Faktor 1, dan rata-rata Faktor j.\n",
    "\n",
    "Tabel pengerjaannya adalah sebagai berikut:\n",
    "\n",
    "| Sumber Variasi | Jumlah Rata-Rata | Derajat Kebebasan | Kuadrat Rata-Rata (MS) | F |\n",
    "| --- | --- | --- | --- | --- |\n",
    "| Perlakuan (T) | SST | k - 1 di mana k = jumlah kolom/sampel perlakuan | SST/(k - 1) = MST | MST/MSE = F |\n",
    "| Penghalangan (B) | SSB | b - 1 di mana b adalah jumlah penghalang | SSB/(b - 1) = MSB | MSB / MSE = F |\n",
    "| Hubungan/Interaksi (I) | SSI | (k - 1)(b - 1) | SSI/((k - 1)(b - 1)) = MSI | MSI / MSE = F |\n",
    "| Kesalahan (E) | SSE | n - kb | SSE/(n - kb) = MSE |  \n",
    "| Total | SS total | n - 1 | \n",
    "\n",
    "### Case\n",
    "Berikut adalah data yang digunakan:\n",
    "<b> JANGAN LUPA SS ITU ARTINYA SUM SQUARED --> SUM(X - Xbar)^2"
   ]
  },
  {
   "cell_type": "code",
   "execution_count": 235,
   "metadata": {
    "scrolled": true
   },
   "outputs": [
    {
     "name": "stdout",
     "output_type": "stream",
     "text": [
      "     driver  US6  West_End  Hickory  Route\n",
      "0     Deans   18        14       20     19\n",
      "1     Deans   15        17       21     22\n",
      "2     Deans   21        20       22     25\n",
      "3  Snaverly   19        20       24     24\n",
      "4  Snaverly   15        24       23     22\n"
     ]
    }
   ],
   "source": [
    "#Informasi\n",
    "driver = ['Deans', 'Deans', 'Deans', 'Snaverly', \n",
    "          'Snaverly', 'Snaverly', 'Ormson', 'Ormson', \n",
    "          'Ormson', 'Zollaco', 'Zollaco', 'Zollaco', \n",
    "          'Filbeck', 'Filbeck', 'Filbeck']\n",
    "US6 = [18, 15, 21, 19, 15, 14, 19, 21, \n",
    "       23, 24, 20, 25, 27, 25, 23]\n",
    "West_End = [14, 17, 20, 20, 24, 25, 23, \n",
    "            21, 19, 20, 24, 22, 24, 24, 24]\n",
    "Hickory = [20, 21, 22, 24, 23, 22, 25, 29, \n",
    "           24, 30, 28, 29, 28, 28, 28]\n",
    "Route = [19, 22, 25, 24, 22, 20, 23, 23, \n",
    "         20, 26, 25, 24, 28, 30, 26]\n",
    "\n",
    "alpha = 1 - 0.05\n",
    "\n",
    "df = pd.DataFrame({'driver' : driver,\n",
    "                   'US6' : US6,\n",
    "                   'West_End' : West_End,\n",
    "                   'Hickory' : Hickory,\n",
    "                   'Route' : Route})\n",
    "\n",
    "print(df.head())"
   ]
  },
  {
   "cell_type": "markdown",
   "metadata": {},
   "source": [
    "### Pengerjaan\n",
    "Dalam penghitungan ANOVA Two Way terdapat beberapa step yang dilakukan, di antaranya adalah"
   ]
  },
  {
   "cell_type": "code",
   "execution_count": 241,
   "metadata": {
    "hide_input": true,
    "scrolled": false
   },
   "outputs": [
    {
     "name": "stdout",
     "output_type": "stream",
     "text": [
      "Kesimpulan \n",
      "\n",
      "Nilai f hitung faktor A  > nilai kritis faktor A, maka menolak Hipotesis Nol pada Faktor A, yakni rata-rata rute waktu terdapat perbedaan\n",
      "Nilai f hitung faktor B  > nilai kritis faktor B, maka menolak Hipotesis Nol pada Faktor B, yakni rata-rata waktu rute terdapat perbedaan\n",
      "Nilai f hitung interaksi  > nilai kritis interaksi, maka menolak Hipotesis Nol pada interaksi, yakni terdapat interaksi antara rute dan pengemudi\n",
      "----------------------------------------------------------------------\n",
      "Nilai f hitung Faktor A sebesar 20.877906976744192\n",
      "Nilai f hitung Faktor B sebesar 16.930232558139537\n",
      "Nilai f hitung interaksi 2.1337209302325575 \n",
      "\n",
      "Nilai kritis Faktor A sebesar 2.605974949123867\n",
      "Nilai kritis Faktor B sebesar 2.8387453980206443\n",
      "Nilai kritis interaksi 2.003459395501832 \n",
      "\n",
      "Nilai p Faktor A sebesar 2.3393519343883895e-09\n",
      "Nilai p Faktor B sebesar 2.972732485728713e-07\n",
      "Nilai p interaksi sebesar 0.03643095678442054\n"
     ]
    }
   ],
   "source": [
    "#Kalkulasi SStotal\n",
    "merged = df.iloc[:, 1:].to_numpy().flatten()\n",
    "SStotal = np.sum((merged - np.mean(merged)) ** 2)\n",
    "\n",
    "#Kalkulasi SSB/SS Faktor B (Column) - Route\n",
    "SSB = 0\n",
    "for i in [US6, West_End, Hickory, Route]:\n",
    "    SSB += len(i) * (np.mean(i) - np.mean(merged)) ** 2\n",
    "\n",
    "#ALternatif hitung SSB\n",
    "SSB_ = list()\n",
    "for i in [US6, West_End, Hickory, Route]:\n",
    "    SSB_.append(np.sum(i))\n",
    "\n",
    "SSB_alt = np.sum((SSB_ - np.mean(SSB_)) ** 2) / len(US6)\n",
    "    \n",
    "#Kalkulasi SST/SS Faktor A (Row) - Driver\n",
    "sum_preSSA = []\n",
    "for i in df.driver.unique():\n",
    "    values = np.sum(np.sum(df[df.driver == i].iloc[:, 1:]))\n",
    "    sum_preSSA.append(values)\n",
    "\n",
    "SST = np.sum((sum_preSSA - np.mean(sum_preSSA)) ** 2) / (df.columns[1:].nunique() * np.mean(df.driver.value_counts()))\n",
    "\n",
    "#Kalkulasi SSE/ Sum Squared Error(Within)\n",
    "SSE_two_way_I = 0\n",
    "for i in df.driver.unique():\n",
    "    for j in df.columns[1:]:\n",
    "        valued = df[df.driver == i][j]\n",
    "        SSE_two_way_I += np.sum((valued - np.mean(valued)) ** 2)\n",
    "\n",
    "#Kalkulasi SSI-Interaksi(Faktor A : Faktor B)\n",
    "SSI = SStotal - SSB_alt - SST - SSE_two_way_I\n",
    "\n",
    "\n",
    "#Menentukan degree of freedom\n",
    "doft = df.driver.nunique() - 1  #dof untuk treatment atau Faktor A\n",
    "dofb = df.columns[1:].nunique() - 1  #dof untuk block atau Faktor B\n",
    "dofi = doft * dofb  #dof interaksi\n",
    "dofe = np.sum(df.iloc[:, 1:].count()) - (doft + 1) * (dofb + 1)  #dof SSE/kesalahan\n",
    "dof_total = np.sum(df.iloc[:, 1:].count())\n",
    "\n",
    "#Memghitung Mean Squared Faktor A, Faktor B, Interaksi, dan Error\n",
    "MSA = SST / doft\n",
    "MSB = SSB_alt / dofb\n",
    "MSI = SSI / dofi\n",
    "MSE = SSE_two_way_I / dofe\n",
    "\n",
    "#Menghitung F Faktor A, F Faktor B, dan F Interaksi\n",
    "f_faktor_A = MSA / MSE\n",
    "f_faktor_B = MSB / MSE\n",
    "f_interaksi = MSI / MSE\n",
    "\n",
    "#Menghitung p-value dan nilai kritisnya\n",
    "nilai_kritis_f_A = stats.f.ppf(alpha, doft, dofe)\n",
    "nilai_kritis_f_B = stats.f.ppf(alpha, dofb, dofe)\n",
    "nilai_kritis_i = stats.f.ppf(alpha, dofi, dofe)\n",
    "\n",
    "p_value_A = 1 - stats.f.cdf(f_faktor_A, doft, dofe)\n",
    "p_value_B = 1 - stats.f.cdf(f_faktor_B, dofb, dofe)\n",
    "p_value_i = 1 - stats.f.cdf(f_interaksi, dofi, dofe)\n",
    "\n",
    "#Kesimpulan\n",
    "print('Kesimpulan', '\\n')\n",
    "if f_faktor_A < nilai_kritis_f_A:\n",
    "    print('Nilai f hitung faktor A  < nilai kritis faktor A, maka gagal tolak Hipotesis Nol pada Faktor A, yakni rata-rata waktu rute sama')\n",
    "else:\n",
    "    print('Nilai f hitung faktor A  > nilai kritis faktor A, maka menolak Hipotesis Nol pada Faktor A, yakni rata-rata rute waktu terdapat perbedaan')\n",
    "\n",
    "if f_faktor_B < nilai_kritis_f_B:\n",
    "    print('Nilai f hitung faktor B  < nilai kritis faktor B, maka gagal tolak Hipotesis Nol pada Faktor B, yakni rata-rata waktu pengemudi sama')\n",
    "else:\n",
    "    print('Nilai f hitung faktor B  > nilai kritis faktor B, maka menolak Hipotesis Nol pada Faktor B, yakni rata-rata waktu rute terdapat perbedaan')\n",
    "    \n",
    "if f_interaksi < nilai_kritis_i:\n",
    "    print('Nilai f hitung interaksi < nilai kritis interaksi, maka gagal tolak Hipotesis Nol pada interaksi, yakni tidak ada interaksi antara rute dan pengemudi')\n",
    "else:\n",
    "    print('Nilai f hitung interaksi  > nilai kritis interaksi, maka menolak Hipotesis Nol pada interaksi, yakni terdapat interaksi antara rute dan pengemudi')\n",
    "\n",
    "print('----------------------------------------------------------------------')\n",
    "print('Nilai f hitung Faktor A sebesar', f_faktor_A)\n",
    "print('Nilai f hitung Faktor B sebesar', f_faktor_B)\n",
    "print('Nilai f hitung interaksi', f_interaksi, '\\n')\n",
    "print('Nilai kritis Faktor A sebesar', nilai_kritis_f_A)\n",
    "print('Nilai kritis Faktor B sebesar', nilai_kritis_f_B)\n",
    "print('Nilai kritis interaksi', nilai_kritis_i, '\\n')\n",
    "print('Nilai p Faktor A sebesar', p_value_A)\n",
    "print('Nilai p Faktor B sebesar', p_value_B)\n",
    "print('Nilai p interaksi sebesar', p_value_i)"
   ]
  },
  {
   "cell_type": "markdown",
   "metadata": {},
   "source": [
    "#### Penghitungan Menggunakan Statsmodels"
   ]
  },
  {
   "cell_type": "code",
   "execution_count": 244,
   "metadata": {},
   "outputs": [
    {
     "name": "stdout",
     "output_type": "stream",
     "text": [
      "                       sum_sq    df          F        PR(>F)\n",
      "C(driver)               359.1   4.0  20.877907  2.339352e-09\n",
      "C(variable)             218.4   3.0  16.930233  2.972732e-07\n",
      "C(driver):C(variable)   110.1  12.0   2.133721  3.643096e-02\n",
      "Residual                172.0  40.0        NaN           NaN\n"
     ]
    }
   ],
   "source": [
    "df_ = df\n",
    "codes, unique = pd.factorize(df_.driver)\n",
    "df_.driver = codes\n",
    "\n",
    "melted = df_.melt(id_vars=['driver'])\n",
    "\n",
    "from statsmodels.formula.api import ols\n",
    "from statsmodels.stats.anova import anova_lm\n",
    "\n",
    "formula = 'value ~ C(driver) + C(variable) + C(driver):C(variable)'\n",
    "model = ols(formula, melted).fit()\n",
    "\n",
    "anova_table = anova_lm(model, typ = 2)\n",
    "print(anova_table)\n",
    "\n"
   ]
  }
 ],
 "metadata": {
  "kernelspec": {
   "display_name": "Python 3",
   "language": "python",
   "name": "python3"
  },
  "language_info": {
   "codemirror_mode": {
    "name": "ipython",
    "version": 3
   },
   "file_extension": ".py",
   "mimetype": "text/x-python",
   "name": "python",
   "nbconvert_exporter": "python",
   "pygments_lexer": "ipython3",
   "version": "3.8.5"
  }
 },
 "nbformat": 4,
 "nbformat_minor": 4
}
